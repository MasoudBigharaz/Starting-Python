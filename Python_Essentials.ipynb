{
 "cells": [
  {
   "cell_type": "markdown",
   "id": "5760a0b8-28ca-4794-9c97-da218d219650",
   "metadata": {},
   "source": [
    "# Python essentials"
   ]
  },
  {
   "cell_type": "code",
   "execution_count": 1,
   "id": "c9d34c47-2d51-4037-b715-0de3580816f4",
   "metadata": {},
   "outputs": [],
   "source": [
    "# writing Title"
   ]
  },
  {
   "cell_type": "code",
   "execution_count": 19,
   "id": "115aa289-88bb-4de2-930b-8c23e407d7e1",
   "metadata": {},
   "outputs": [],
   "source": [
    "# Press M (markbook) at the beginning of raw and the press # + space then write your title.\n",
    "# to make it smaller you can add more #."
   ]
  },
  {
   "cell_type": "markdown",
   "id": "68829d34-40c9-4bfb-8140-9817743c735a",
   "metadata": {},
   "source": [
    "## Python variables"
   ]
  },
  {
   "cell_type": "code",
   "execution_count": 6,
   "id": "895ee3f2-4d09-458e-bc6e-85c9b616908c",
   "metadata": {},
   "outputs": [],
   "source": [
    "# python variables include Number String and Booleans"
   ]
  },
  {
   "cell_type": "markdown",
   "id": "02e51ea6-3b81-4188-b6d9-1702da706ee9",
   "metadata": {},
   "source": [
    "### Numbers"
   ]
  },
  {
   "cell_type": "code",
   "execution_count": 7,
   "id": "b2f6dde9-37b8-4f21-aa6e-824fc948c98a",
   "metadata": {},
   "outputs": [],
   "source": [
    "x=10"
   ]
  },
  {
   "cell_type": "code",
   "execution_count": 8,
   "id": "7dc24930-f5f3-437c-89d4-c4dba9929e92",
   "metadata": {},
   "outputs": [
    {
     "data": {
      "text/plain": [
       "10"
      ]
     },
     "execution_count": 8,
     "metadata": {},
     "output_type": "execute_result"
    }
   ],
   "source": [
    "x"
   ]
  },
  {
   "cell_type": "code",
   "execution_count": 9,
   "id": "f61724a0-1910-4f9c-84d7-d7c779bc6548",
   "metadata": {},
   "outputs": [
    {
     "data": {
      "text/plain": [
       "int"
      ]
     },
     "execution_count": 9,
     "metadata": {},
     "output_type": "execute_result"
    }
   ],
   "source": [
    "type(x)"
   ]
  },
  {
   "cell_type": "code",
   "execution_count": null,
   "id": "67593fc2-1ce0-4fd9-bb9d-5697d5872bbf",
   "metadata": {},
   "outputs": [],
   "source": [
    "# int stands for in integer"
   ]
  },
  {
   "cell_type": "code",
   "execution_count": 16,
   "id": "18162115-b576-4a3e-86e4-9fb2907b94f1",
   "metadata": {},
   "outputs": [],
   "source": [
    "y=1.23456"
   ]
  },
  {
   "cell_type": "code",
   "execution_count": 17,
   "id": "6d0c14d0-690c-42ac-b93b-e041e60196bb",
   "metadata": {},
   "outputs": [
    {
     "data": {
      "text/plain": [
       "float"
      ]
     },
     "execution_count": 17,
     "metadata": {},
     "output_type": "execute_result"
    }
   ],
   "source": [
    "type(y)"
   ]
  },
  {
   "cell_type": "code",
   "execution_count": 25,
   "id": "777ca5da-823a-4429-bd06-74629ced6de0",
   "metadata": {},
   "outputs": [],
   "source": [
    "z=1j"
   ]
  },
  {
   "cell_type": "code",
   "execution_count": 26,
   "id": "c0eaf446-dccc-4417-aec3-67fe23a9ae49",
   "metadata": {},
   "outputs": [
    {
     "data": {
      "text/plain": [
       "complex"
      ]
     },
     "execution_count": 26,
     "metadata": {},
     "output_type": "execute_result"
    }
   ],
   "source": [
    "type(z)"
   ]
  },
  {
   "cell_type": "code",
   "execution_count": 28,
   "id": "65bacfdc-9619-44a4-b5b7-de7c6a8ee66c",
   "metadata": {},
   "outputs": [
    {
     "name": "stdout",
     "output_type": "stream",
     "text": [
      "(-1+0j)\n"
     ]
    }
   ],
   "source": [
    "q=z*z\n",
    "print(q)"
   ]
  },
  {
   "cell_type": "markdown",
   "id": "b4cc5742-5d41-4b28-9ec7-f938c48eef54",
   "metadata": {},
   "source": [
    "### Strings"
   ]
  },
  {
   "cell_type": "code",
   "execution_count": 29,
   "id": "1fc35b38-4757-44c3-b5bf-2052288a02a3",
   "metadata": {},
   "outputs": [],
   "source": [
    "A='first strng'"
   ]
  },
  {
   "cell_type": "code",
   "execution_count": 30,
   "id": "c93d633a-784f-4ef1-be33-4540d90bd41e",
   "metadata": {},
   "outputs": [
    {
     "data": {
      "text/plain": [
       "str"
      ]
     },
     "execution_count": 30,
     "metadata": {},
     "output_type": "execute_result"
    }
   ],
   "source": [
    "type(A)"
   ]
  },
  {
   "cell_type": "code",
   "execution_count": 32,
   "id": "61a33168-ee07-4efc-93a9-6ac98821e6cf",
   "metadata": {},
   "outputs": [
    {
     "data": {
      "text/plain": [
       "'first string second string'"
      ]
     },
     "execution_count": 32,
     "metadata": {},
     "output_type": "execute_result"
    }
   ],
   "source": [
    "'first string' +' second string'"
   ]
  },
  {
   "cell_type": "code",
   "execution_count": 33,
   "id": "dc4408f5-ee6b-4fe1-930c-53d7902d550c",
   "metadata": {},
   "outputs": [],
   "source": [
    "# note I put space before the second string"
   ]
  },
  {
   "cell_type": "code",
   "execution_count": null,
   "id": "7067d41e-92f8-44d5-845b-4e005dfa5eff",
   "metadata": {},
   "outputs": [],
   "source": [
    "# Concatenating"
   ]
  },
  {
   "cell_type": "code",
   "execution_count": 34,
   "id": "b7458c89-8061-4985-abf8-3f6de67e39c4",
   "metadata": {},
   "outputs": [
    {
     "data": {
      "text/plain": [
       "'first stringfirst stringfirst stringfirst stringfirst string'"
      ]
     },
     "execution_count": 34,
     "metadata": {},
     "output_type": "execute_result"
    }
   ],
   "source": [
    "'first string'*5"
   ]
  },
  {
   "cell_type": "markdown",
   "id": "d4df0182-cd40-490d-b132-899927786eee",
   "metadata": {},
   "source": [
    "### Booleans"
   ]
  },
  {
   "cell_type": "code",
   "execution_count": 35,
   "id": "f37a3fda-101b-4c71-8f37-6297764ae171",
   "metadata": {},
   "outputs": [
    {
     "data": {
      "text/plain": [
       "True"
      ]
     },
     "execution_count": 35,
     "metadata": {},
     "output_type": "execute_result"
    }
   ],
   "source": [
    "True"
   ]
  },
  {
   "cell_type": "code",
   "execution_count": 36,
   "id": "e65b6bef-1879-45e7-9546-9d8f27a0955d",
   "metadata": {},
   "outputs": [
    {
     "data": {
      "text/plain": [
       "False"
      ]
     },
     "execution_count": 36,
     "metadata": {},
     "output_type": "execute_result"
    }
   ],
   "source": [
    "False"
   ]
  },
  {
   "cell_type": "code",
   "execution_count": 37,
   "id": "fb0cd58a-78a6-4212-bf74-aedf753c26a9",
   "metadata": {},
   "outputs": [
    {
     "data": {
      "text/plain": [
       "True"
      ]
     },
     "execution_count": 37,
     "metadata": {},
     "output_type": "execute_result"
    }
   ],
   "source": [
    "1==1"
   ]
  },
  {
   "cell_type": "markdown",
   "id": "6e401da2-5a0e-4251-917f-7ba6877706c9",
   "metadata": {},
   "source": [
    "## Python Data Structures"
   ]
  },
  {
   "cell_type": "code",
   "execution_count": 38,
   "id": "9c4aa6d7-fc11-4ce3-8952-c0a6c1e3e3c5",
   "metadata": {},
   "outputs": [],
   "source": [
    "# Data structures in python includes Lists '[]' , sets'{}' , Tuples '()' and Dictionaries"
   ]
  },
  {
   "cell_type": "markdown",
   "id": "5a3e45cb-fc65-4b24-a7d9-498e11b1bf99",
   "metadata": {},
   "source": [
    "### list"
   ]
  },
  {
   "cell_type": "code",
   "execution_count": 39,
   "id": "6b579ae1-39f0-4f5f-8a78-cdd722e5d339",
   "metadata": {},
   "outputs": [],
   "source": [
    "w=[1,2,3,4]"
   ]
  },
  {
   "cell_type": "code",
   "execution_count": 40,
   "id": "74718107-ab07-4571-9174-553cea4d9929",
   "metadata": {},
   "outputs": [
    {
     "data": {
      "text/plain": [
       "list"
      ]
     },
     "execution_count": 40,
     "metadata": {},
     "output_type": "execute_result"
    }
   ],
   "source": [
    "type(w)"
   ]
  },
  {
   "cell_type": "markdown",
   "id": "8b414e98-040f-48d5-a950-d833da9fde1e",
   "metadata": {},
   "source": [
    "### set"
   ]
  },
  {
   "cell_type": "code",
   "execution_count": 48,
   "id": "6170028c-37c8-47d6-9a17-b7b4a7e52bab",
   "metadata": {},
   "outputs": [],
   "source": [
    "a={1,2,3}"
   ]
  },
  {
   "cell_type": "code",
   "execution_count": 49,
   "id": "eb6f8b7b-e58e-4b07-a001-e53786f632a4",
   "metadata": {},
   "outputs": [
    {
     "data": {
      "text/plain": [
       "set"
      ]
     },
     "execution_count": 49,
     "metadata": {},
     "output_type": "execute_result"
    }
   ],
   "source": [
    "type(a)"
   ]
  },
  {
   "cell_type": "markdown",
   "id": "28264662-6f08-4470-9675-d0561ef40178",
   "metadata": {},
   "source": [
    "### Tuple"
   ]
  },
  {
   "cell_type": "code",
   "execution_count": 50,
   "id": "056978e6-967d-42f8-83c1-26a05db80a78",
   "metadata": {},
   "outputs": [],
   "source": [
    "e=(1,2,3,4)"
   ]
  },
  {
   "cell_type": "code",
   "execution_count": 51,
   "id": "8d0bcb35-b862-4c4f-97fe-db6900eba81b",
   "metadata": {},
   "outputs": [
    {
     "data": {
      "text/plain": [
       "tuple"
      ]
     },
     "execution_count": 51,
     "metadata": {},
     "output_type": "execute_result"
    }
   ],
   "source": [
    "type(e)"
   ]
  },
  {
   "cell_type": "markdown",
   "id": "6ea4d633-b850-4663-9a34-f4214203006f",
   "metadata": {},
   "source": [
    "### Dictionary"
   ]
  },
  {
   "cell_type": "code",
   "execution_count": 46,
   "id": "194a5c4f-4444-42b6-bb16-3bdcab1c8ff1",
   "metadata": {},
   "outputs": [],
   "source": [
    "x={\n",
    "    'first exam' : 'math',\n",
    "    'second exam' : 'physics'\n",
    "}"
   ]
  },
  {
   "cell_type": "code",
   "execution_count": 47,
   "id": "4e795360-d929-4979-a50e-3baa7249011c",
   "metadata": {},
   "outputs": [
    {
     "data": {
      "text/plain": [
       "dict"
      ]
     },
     "execution_count": 47,
     "metadata": {},
     "output_type": "execute_result"
    }
   ],
   "source": [
    "type(x)"
   ]
  },
  {
   "cell_type": "code",
   "execution_count": 52,
   "id": "02a3e9c3-e4d4-477b-800a-f0594a5c2949",
   "metadata": {},
   "outputs": [
    {
     "data": {
      "text/plain": [
       "'math'"
      ]
     },
     "execution_count": 52,
     "metadata": {},
     "output_type": "execute_result"
    }
   ],
   "source": [
    "x['first exam']"
   ]
  },
  {
   "cell_type": "markdown",
   "id": "e66f517c-d48b-40f1-8b4f-5a0527ceff33",
   "metadata": {},
   "source": [
    "## Operators"
   ]
  },
  {
   "cell_type": "markdown",
   "id": "0f7034c2-80af-4144-92af-c3b40eace735",
   "metadata": {},
   "source": [
    "### Arithmatic Operators"
   ]
  },
  {
   "cell_type": "code",
   "execution_count": 59,
   "id": "96dc0686-5a99-4a13-8718-e534b31f588b",
   "metadata": {},
   "outputs": [
    {
     "data": {
      "text/plain": [
       "3"
      ]
     },
     "execution_count": 59,
     "metadata": {},
     "output_type": "execute_result"
    }
   ],
   "source": [
    "2+1"
   ]
  },
  {
   "cell_type": "code",
   "execution_count": 60,
   "id": "8d080549-9b80-4270-aa98-851d7113ec81",
   "metadata": {},
   "outputs": [
    {
     "data": {
      "text/plain": [
       "36"
      ]
     },
     "execution_count": 60,
     "metadata": {},
     "output_type": "execute_result"
    }
   ],
   "source": [
    "4*9"
   ]
  },
  {
   "cell_type": "code",
   "execution_count": 68,
   "id": "43679640-9b94-4bd3-bbcc-bf3d2d8e4eb9",
   "metadata": {
    "scrolled": true
   },
   "outputs": [
    {
     "data": {
      "text/plain": [
       "7.2"
      ]
     },
     "execution_count": 68,
     "metadata": {},
     "output_type": "execute_result"
    }
   ],
   "source": [
    "36/5"
   ]
  },
  {
   "cell_type": "code",
   "execution_count": 67,
   "id": "40526ab3-28a0-45fb-af48-c834bd5960c1",
   "metadata": {},
   "outputs": [
    {
     "data": {
      "text/plain": [
       "2"
      ]
     },
     "execution_count": 67,
     "metadata": {},
     "output_type": "execute_result"
    }
   ],
   "source": [
    "30%7"
   ]
  },
  {
   "cell_type": "markdown",
   "id": "53d3a870-b2c9-4420-a510-ef9803fa940e",
   "metadata": {},
   "source": [
    "### Arithmatic Operators with Strings"
   ]
  },
  {
   "cell_type": "code",
   "execution_count": 69,
   "id": "9a9d40c0-dc8b-479d-b877-deb65e56883a",
   "metadata": {},
   "outputs": [
    {
     "data": {
      "text/plain": [
       "'first string second string'"
      ]
     },
     "execution_count": 69,
     "metadata": {},
     "output_type": "execute_result"
    }
   ],
   "source": [
    "'first string '+'second string'"
   ]
  },
  {
   "cell_type": "code",
   "execution_count": 70,
   "id": "44bca2d0-1c71-40ed-8bb4-0abf51b56f6c",
   "metadata": {},
   "outputs": [
    {
     "data": {
      "text/plain": [
       "'first string first string first string first string '"
      ]
     },
     "execution_count": 70,
     "metadata": {},
     "output_type": "execute_result"
    }
   ],
   "source": [
    "'first string '*4"
   ]
  },
  {
   "cell_type": "markdown",
   "id": "c2ace60b-bfa3-4577-8c64-9ccdf1b41b13",
   "metadata": {},
   "source": [
    "### Comparison, Logic, and Membership Operators"
   ]
  },
  {
   "cell_type": "markdown",
   "id": "5e14cb48-ae30-4e8d-94a2-451caa28d174",
   "metadata": {},
   "source": [
    "#### Comparison Operators"
   ]
  },
  {
   "cell_type": "code",
   "execution_count": 72,
   "id": "9dcd6443-d2c1-4fc3-b0a2-f112bbdf9b26",
   "metadata": {},
   "outputs": [
    {
     "data": {
      "text/plain": [
       "True"
      ]
     },
     "execution_count": 72,
     "metadata": {},
     "output_type": "execute_result"
    }
   ],
   "source": [
    "True== True"
   ]
  },
  {
   "cell_type": "code",
   "execution_count": 74,
   "id": "c99f5eaa-5957-4430-9f1d-d2ae9135e18d",
   "metadata": {},
   "outputs": [
    {
     "data": {
      "text/plain": [
       "True"
      ]
     },
     "execution_count": 74,
     "metadata": {},
     "output_type": "execute_result"
    }
   ],
   "source": [
    "6<10"
   ]
  },
  {
   "cell_type": "code",
   "execution_count": 76,
   "id": "faf3d0a4-3ba3-4dfd-8adf-cefc4e42b84f",
   "metadata": {},
   "outputs": [
    {
     "data": {
      "text/plain": [
       "True"
      ]
     },
     "execution_count": 76,
     "metadata": {},
     "output_type": "execute_result"
    }
   ],
   "source": [
    "7<=10"
   ]
  },
  {
   "cell_type": "code",
   "execution_count": 77,
   "id": "86068f51-5427-4fb6-84bb-2399b84670fe",
   "metadata": {},
   "outputs": [
    {
     "data": {
      "text/plain": [
       "True"
      ]
     },
     "execution_count": 77,
     "metadata": {},
     "output_type": "execute_result"
    }
   ],
   "source": [
    "7>5"
   ]
  },
  {
   "cell_type": "markdown",
   "id": "76103b65-3dcd-409e-a1a1-c4a4e70e011d",
   "metadata": {},
   "source": [
    "#### Logical operators (and, or, not)"
   ]
  },
  {
   "cell_type": "code",
   "execution_count": 78,
   "id": "88517f22-ab10-4dc2-bd4f-b399fdb24b7a",
   "metadata": {},
   "outputs": [
    {
     "data": {
      "text/plain": [
       "True"
      ]
     },
     "execution_count": 78,
     "metadata": {},
     "output_type": "execute_result"
    }
   ],
   "source": [
    "True and True"
   ]
  },
  {
   "cell_type": "code",
   "execution_count": 79,
   "id": "962592f9-2661-431a-89c6-2bdf56f439da",
   "metadata": {},
   "outputs": [
    {
     "data": {
      "text/plain": [
       "False"
      ]
     },
     "execution_count": 79,
     "metadata": {},
     "output_type": "execute_result"
    }
   ],
   "source": [
    "True and False"
   ]
  },
  {
   "cell_type": "code",
   "execution_count": 80,
   "id": "5911ee62-9fc3-4bf5-9c65-89a0e1535779",
   "metadata": {},
   "outputs": [
    {
     "data": {
      "text/plain": [
       "True"
      ]
     },
     "execution_count": 80,
     "metadata": {},
     "output_type": "execute_result"
    }
   ],
   "source": [
    "True or False"
   ]
  },
  {
   "cell_type": "code",
   "execution_count": 81,
   "id": "f540fc30-e4d0-41e4-ba74-55a2d9376c03",
   "metadata": {},
   "outputs": [
    {
     "data": {
      "text/plain": [
       "False"
      ]
     },
     "execution_count": 81,
     "metadata": {},
     "output_type": "execute_result"
    }
   ],
   "source": [
    "not True"
   ]
  },
  {
   "cell_type": "markdown",
   "id": "cbb1ba2b-1cca-496b-8a75-ee19302595b4",
   "metadata": {},
   "source": [
    "#### Membership Operators"
   ]
  },
  {
   "cell_type": "code",
   "execution_count": 82,
   "id": "4dc1d3a4-55b6-4083-9063-dcd17bd5eb22",
   "metadata": {},
   "outputs": [
    {
     "data": {
      "text/plain": [
       "True"
      ]
     },
     "execution_count": 82,
     "metadata": {},
     "output_type": "execute_result"
    }
   ],
   "source": [
    "1 in [1,2,3,4,5]"
   ]
  },
  {
   "cell_type": "code",
   "execution_count": 83,
   "id": "637ab7ec-8ed8-414f-95d7-2917bb73c656",
   "metadata": {},
   "outputs": [
    {
     "data": {
      "text/plain": [
       "True"
      ]
     },
     "execution_count": 83,
     "metadata": {},
     "output_type": "execute_result"
    }
   ],
   "source": [
    "6 not in[1,2,3,4,5]"
   ]
  },
  {
   "cell_type": "code",
   "execution_count": 84,
   "id": "edd0e571-b498-4f59-953b-bce0e2224927",
   "metadata": {},
   "outputs": [
    {
     "data": {
      "text/plain": [
       "True"
      ]
     },
     "execution_count": 84,
     "metadata": {},
     "output_type": "execute_result"
    }
   ],
   "source": [
    "'work' in 'my work book'"
   ]
  },
  {
   "cell_type": "markdown",
   "id": "d7271d4e-10b7-4793-bcca-a66ec9ae2c98",
   "metadata": {},
   "source": [
    "## Control Flow"
   ]
  },
  {
   "cell_type": "markdown",
   "id": "a8b01eed-3297-4359-bc41-cc16494f7d42",
   "metadata": {},
   "source": [
    "### If/ Else statement"
   ]
  },
  {
   "cell_type": "code",
   "execution_count": 95,
   "id": "8889c26b-e2fc-4a89-b989-a64a64ec71ca",
   "metadata": {},
   "outputs": [
    {
     "name": "stdout",
     "output_type": "stream",
     "text": [
      "false\n"
     ]
    }
   ],
   "source": [
    "g=[1,2,3,4,8]\n",
    "if 5 in g:\n",
    "    print('It is true')\n",
    "else:\n",
    "   print('false')"
   ]
  },
  {
   "cell_type": "markdown",
   "id": "636887b1-e88d-48ee-ac6a-c2328f215437",
   "metadata": {},
   "source": [
    "### For Loop"
   ]
  },
  {
   "cell_type": "code",
   "execution_count": 101,
   "id": "d9c24d04-d0d1-4a9f-9562-90f2efd4cbea",
   "metadata": {},
   "outputs": [
    {
     "name": "stdout",
     "output_type": "stream",
     "text": [
      "1\n",
      "2\n",
      "3\n",
      "4\n",
      "8\n",
      "10\n"
     ]
    }
   ],
   "source": [
    "p=[1,2,3,4,8,10,13]\n",
    "for item in p:\n",
    "    if item<=11:\n",
    "        print(item)"
   ]
  },
  {
   "cell_type": "markdown",
   "id": "8f47c153-5aea-4834-90e0-69d0933d467c",
   "metadata": {},
   "source": [
    "### While Loop"
   ]
  },
  {
   "cell_type": "code",
   "execution_count": 102,
   "id": "3ae82855-d49d-40a0-8ce4-858af9eba9ed",
   "metadata": {},
   "outputs": [
    {
     "name": "stdout",
     "output_type": "stream",
     "text": [
      "0\n",
      "1\n",
      "2\n",
      "3\n",
      "4\n",
      "5\n",
      "6\n",
      "7\n",
      "8\n",
      "9\n",
      "10\n"
     ]
    }
   ],
   "source": [
    "d=0\n",
    "while d<=10:\n",
    "    print(d)\n",
    "    d=d+1"
   ]
  },
  {
   "cell_type": "markdown",
   "id": "87e91158-3a96-411e-8a41-3f274d783b5f",
   "metadata": {},
   "source": [
    "# Function \n",
    "#### Note: Function name should be started by lowercase letter."
   ]
  },
  {
   "cell_type": "code",
   "execution_count": 115,
   "id": "3da6ed0d-6b0c-4891-b524-5f1fec78666f",
   "metadata": {},
   "outputs": [],
   "source": [
    "def summation(val):\n",
    "    q=0\n",
    "    sum=0\n",
    "    if val==0:\n",
    "        return 0\n",
    "    if val>0:\n",
    "        while q<=val:\n",
    "            sum=sum+q\n",
    "            q=q+1\n",
    "        return sum\n",
    "    else:\n",
    "        return 'not acceptable number'"
   ]
  },
  {
   "cell_type": "code",
   "execution_count": 117,
   "id": "f2af3ef3-8b69-4850-9f99-4d932b6b5836",
   "metadata": {
    "scrolled": true
   },
   "outputs": [
    {
     "data": {
      "text/plain": [
       "3"
      ]
     },
     "execution_count": 117,
     "metadata": {},
     "output_type": "execute_result"
    }
   ],
   "source": [
    "summation(2)"
   ]
  },
  {
   "cell_type": "code",
   "execution_count": 121,
   "id": "8b80a78b-51d4-43c9-82c8-97f5f9ea8618",
   "metadata": {},
   "outputs": [],
   "source": [
    "# Returns the value of the factorial of num if it is defined, otherwise, returns None\n",
    "def factorial(num):\n",
    "    if type(num) is not int:\n",
    "        return None\n",
    "    if num < 0:\n",
    "        return None\n",
    "    if num == 0:\n",
    "        return 1\n",
    "    \n",
    "    return num * factorial(num - 1)"
   ]
  },
  {
   "cell_type": "code",
   "execution_count": 123,
   "id": "ae356750-2c46-4432-bccc-b8d917439fd8",
   "metadata": {},
   "outputs": [
    {
     "data": {
      "text/plain": [
       "120"
      ]
     },
     "execution_count": 123,
     "metadata": {},
     "output_type": "execute_result"
    }
   ],
   "source": [
    "factorial(5)"
   ]
  },
  {
   "cell_type": "markdown",
   "id": "e85266f4-22cd-449c-9546-101792359b22",
   "metadata": {},
   "source": [
    "## Class and Object\n",
    "\n",
    "Python is an object-oriented programming language, which means it allows you to define and use classes to create objects with attributes and methods. Classes are a fundamental concept in Python and are used for organizing and structuring your code.\n",
    "\n",
    "#### Class Attributes\r\n",
    "Attributes are variables that belong to a class and hold data. They define the properties of objects created from the class. You can define class attributes inside the class definition\n",
    "we've defined attributes using the special __init__ method. This method is called a constructor and is used to initialize object attributes when an object is created.."
   ]
  },
  {
   "cell_type": "code",
   "execution_count": 9,
   "id": "ab3cf72e-9088-4221-9191-957b18a78fc7",
   "metadata": {},
   "outputs": [],
   "source": [
    "class Person:\n",
    "    def __init__(self, name, age):\n",
    "        self.name = name\n",
    "        self.age = age\n",
    "    \n",
    "    def greet(self):\n",
    "        return f\"Hello, my name is {self.name} and I am {self.age} years old.\""
   ]
  },
  {
   "cell_type": "markdown",
   "id": "109f7170-49a3-4157-8a7d-dce8f7cee604",
   "metadata": {},
   "source": [
    "### Creating Objects"
   ]
  },
  {
   "cell_type": "code",
   "execution_count": 10,
   "id": "69618afa-545f-4cd9-9666-b970964aef0e",
   "metadata": {},
   "outputs": [],
   "source": [
    "person1 = Person(\"Alice\", 30)\n",
    "person2 = Person(\"Bob\", 25)"
   ]
  },
  {
   "cell_type": "markdown",
   "id": "56745c78-abcd-4580-a9ad-8d3a41c25b69",
   "metadata": {},
   "source": [
    "### Accessing Attributes and Calling Methods"
   ]
  },
  {
   "cell_type": "code",
   "execution_count": 11,
   "id": "9937158e-50f9-489a-a693-95f85942a9d6",
   "metadata": {},
   "outputs": [
    {
     "name": "stdout",
     "output_type": "stream",
     "text": [
      "Alice\n",
      "25\n",
      "Hello, my name is Alice and I am 30 years old.\n"
     ]
    }
   ],
   "source": [
    "print(person1.name)  # Output: \"Alice\"\n",
    "print(person2.age)   # Output: 25\n",
    "print(person1.greet())  # Output: \"Hello, my name is Alice and I am 30 years old.\"\n"
   ]
  },
  {
   "cell_type": "markdown",
   "id": "f527cf65-4d2b-48db-9589-7d7b5b0aea44",
   "metadata": {},
   "source": [
    "### Class Inheritance\n",
    "\n",
    "Advanced users may also explore class inheritance, which allows you to create a new class that is a modified version of an existing class. This is useful for creating more specialized classes. "
   ]
  },
  {
   "cell_type": "code",
   "execution_count": 5,
   "id": "9acf2f3f-0d99-4e06-bf46-2b3f361cc0bc",
   "metadata": {},
   "outputs": [],
   "source": [
    "class Student(Person):\n",
    "    def __init__(self, name, age, student_id):\n",
    "        super().__init__(name, age)\n",
    "        self.student_id = student_id\n",
    "\n",
    "    def study(self):\n",
    "        return f\"{self.name} is studying hard.\""
   ]
  },
  {
   "cell_type": "code",
   "execution_count": 12,
   "id": "f14ca28b-4306-4ba3-81d7-46d54a8556f6",
   "metadata": {},
   "outputs": [],
   "source": [
    "person1 = Person(\"Alice\", 30)\n",
    "student1 = Student(\"Bob\", 25, \"S12345\")"
   ]
  },
  {
   "cell_type": "code",
   "execution_count": 13,
   "id": "4e6d7ca2-6c3d-4dba-885d-a69f4b4ff39f",
   "metadata": {
    "scrolled": true
   },
   "outputs": [
    {
     "name": "stdout",
     "output_type": "stream",
     "text": [
      "Hello, my name is Alice and I am 30 years old.\n",
      "Hello, my name is Bob and I am 25 years old.\n",
      "Bob is studying hard.\n"
     ]
    }
   ],
   "source": [
    "print(person1.greet())   # Output: \"Hello, my name is Alice and I am 30 years old.\"\n",
    "print(student1.greet())  # Output: \"Hello, my name is Bob and I am 25 years old.\"\n",
    "print(student1.study())  # Output: \"Bob is studying hard.\""
   ]
  },
  {
   "cell_type": "markdown",
   "id": "21c237bc-99e5-48bb-a89e-0cd4fcf9a15a",
   "metadata": {},
   "source": [
    "## Ints and floats"
   ]
  },
  {
   "cell_type": "markdown",
   "id": "5a2ac234-98cb-4bec-8ca0-764838fc8cbf",
   "metadata": {},
   "source": [
    "Using regular division, results in a floating-point (decimal) value."
   ]
  },
  {
   "cell_type": "code",
   "execution_count": 14,
   "id": "daf8e7eb-207f-407f-b01b-48fee41e57a3",
   "metadata": {},
   "outputs": [
    {
     "data": {
      "text/plain": [
       "8.0"
      ]
     },
     "execution_count": 14,
     "metadata": {},
     "output_type": "execute_result"
    }
   ],
   "source": [
    "40/5"
   ]
  },
  {
   "cell_type": "code",
   "execution_count": 16,
   "id": "bda619ce-8969-4ab4-a3d5-bbe1b043405c",
   "metadata": {},
   "outputs": [
    {
     "data": {
      "text/plain": [
       "7.666666666666667"
      ]
     },
     "execution_count": 16,
     "metadata": {},
     "output_type": "execute_result"
    }
   ],
   "source": [
    "23/3"
   ]
  },
  {
   "cell_type": "code",
   "execution_count": 17,
   "id": "c74e9122-86bc-45fa-8999-889879f37920",
   "metadata": {},
   "outputs": [
    {
     "data": {
      "text/plain": [
       "7"
      ]
     },
     "execution_count": 17,
     "metadata": {},
     "output_type": "execute_result"
    }
   ],
   "source": [
    "int(23/3)"
   ]
  },
  {
   "cell_type": "code",
   "execution_count": 18,
   "id": "e893e072-2a16-4ea2-83f8-97f1b17d8c0f",
   "metadata": {},
   "outputs": [
    {
     "data": {
      "text/plain": [
       "7.0"
      ]
     },
     "execution_count": 18,
     "metadata": {},
     "output_type": "execute_result"
    }
   ],
   "source": [
    "4+3.0"
   ]
  },
  {
   "cell_type": "markdown",
   "id": "7edd3063-d9ea-4183-955f-8abe4db1396b",
   "metadata": {},
   "source": [
    "Note: int does not round the number"
   ]
  },
  {
   "cell_type": "code",
   "execution_count": 19,
   "id": "19268e65-8bcc-42b0-9e25-a0f2a7687a04",
   "metadata": {},
   "outputs": [
    {
     "data": {
      "text/plain": [
       "8"
      ]
     },
     "execution_count": 19,
     "metadata": {},
     "output_type": "execute_result"
    }
   ],
   "source": [
    "int(8.999999)"
   ]
  },
  {
   "cell_type": "markdown",
   "id": "94350565-f2c9-4586-9a41-a4628a13bc42",
   "metadata": {},
   "source": [
    "T round number you need to use round comment"
   ]
  },
  {
   "cell_type": "code",
   "execution_count": 20,
   "id": "1a434a31-298f-4fe6-af14-dbc9b6434f2b",
   "metadata": {},
   "outputs": [
    {
     "data": {
      "text/plain": [
       "9"
      ]
     },
     "execution_count": 20,
     "metadata": {},
     "output_type": "execute_result"
    }
   ],
   "source": [
    "round(8.99)"
   ]
  },
  {
   "cell_type": "code",
   "execution_count": 21,
   "id": "503c1198-ea40-4b69-9ac4-35c802a8de29",
   "metadata": {},
   "outputs": [
    {
     "data": {
      "text/plain": [
       "4.33"
      ]
     },
     "execution_count": 21,
     "metadata": {},
     "output_type": "execute_result"
    }
   ],
   "source": [
    "round(13/3,2)"
   ]
  },
  {
   "cell_type": "code",
   "execution_count": 22,
   "id": "58161438-c97c-4418-a0f1-97186a0c4723",
   "metadata": {},
   "outputs": [
    {
     "data": {
      "text/plain": [
       "4.33333"
      ]
     },
     "execution_count": 22,
     "metadata": {},
     "output_type": "execute_result"
    }
   ],
   "source": [
    "round(13/3,5)"
   ]
  },
  {
   "cell_type": "markdown",
   "id": "3cedb907-9a5f-44bd-946e-c9091c27f425",
   "metadata": {},
   "source": [
    "Considerations while using floats"
   ]
  },
  {
   "cell_type": "code",
   "execution_count": 23,
   "id": "5faac52f-8d3f-47ac-9942-f51d751cd6e7",
   "metadata": {
    "scrolled": true
   },
   "outputs": [
    {
     "data": {
      "text/plain": [
       "0.19999999999999996"
      ]
     },
     "execution_count": 23,
     "metadata": {},
     "output_type": "execute_result"
    }
   ],
   "source": [
    "1.2-1.0"
   ]
  },
  {
   "cell_type": "code",
   "execution_count": 34,
   "id": "50c372a2-a396-4c43-8473-84260eed423d",
   "metadata": {
    "scrolled": true
   },
   "outputs": [
    {
     "data": {
      "text/plain": [
       "0.2"
      ]
     },
     "execution_count": 34,
     "metadata": {},
     "output_type": "execute_result"
    }
   ],
   "source": [
    "round(1.2-1.0,2)"
   ]
  },
  {
   "cell_type": "markdown",
   "id": "6a31b2a7-6d5d-4a3e-8be8-12d167b60c45",
   "metadata": {},
   "source": [
    "Importing Decimal module could be helpfull"
   ]
  },
  {
   "cell_type": "code",
   "execution_count": 26,
   "id": "4bed84f6-49b4-4572-a887-58af4de9cbe7",
   "metadata": {},
   "outputs": [],
   "source": [
    "from decimal import Decimal, getcontext"
   ]
  },
  {
   "cell_type": "code",
   "execution_count": 27,
   "id": "bee9c7e8-fd39-4be0-a36c-f75a714c5061",
   "metadata": {},
   "outputs": [
    {
     "data": {
      "text/plain": [
       "Context(prec=28, rounding=ROUND_HALF_EVEN, Emin=-999999, Emax=999999, capitals=1, clamp=0, flags=[], traps=[InvalidOperation, DivisionByZero, Overflow])"
      ]
     },
     "execution_count": 27,
     "metadata": {},
     "output_type": "execute_result"
    }
   ],
   "source": [
    "getcontext()"
   ]
  },
  {
   "cell_type": "code",
   "execution_count": 28,
   "id": "65da46dc-cafb-48fe-8952-f259b0a11d43",
   "metadata": {},
   "outputs": [],
   "source": [
    "getcontext().prec=4"
   ]
  },
  {
   "cell_type": "code",
   "execution_count": 29,
   "id": "b6dcde33-c65e-49a0-8d3e-6cfcd8a07b63",
   "metadata": {},
   "outputs": [
    {
     "data": {
      "text/plain": [
       "Context(prec=4, rounding=ROUND_HALF_EVEN, Emin=-999999, Emax=999999, capitals=1, clamp=0, flags=[], traps=[InvalidOperation, DivisionByZero, Overflow])"
      ]
     },
     "execution_count": 29,
     "metadata": {},
     "output_type": "execute_result"
    }
   ],
   "source": [
    "getcontext()"
   ]
  },
  {
   "cell_type": "code",
   "execution_count": 30,
   "id": "3ca9889a-e94d-4887-9b91-4861a3d22abf",
   "metadata": {},
   "outputs": [],
   "source": [
    "getcontext().prec=28"
   ]
  },
  {
   "cell_type": "code",
   "execution_count": 31,
   "id": "fbdf5f21-32ae-475f-95bc-b08d0e5c67ac",
   "metadata": {},
   "outputs": [
    {
     "data": {
      "text/plain": [
       "Context(prec=28, rounding=ROUND_HALF_EVEN, Emin=-999999, Emax=999999, capitals=1, clamp=0, flags=[], traps=[InvalidOperation, DivisionByZero, Overflow])"
      ]
     },
     "execution_count": 31,
     "metadata": {},
     "output_type": "execute_result"
    }
   ],
   "source": [
    "getcontext()"
   ]
  },
  {
   "cell_type": "markdown",
   "id": "f50cca96-0aa1-4641-8e1a-82c033957845",
   "metadata": {},
   "source": [
    "## Booleans"
   ]
  },
  {
   "cell_type": "markdown",
   "id": "be3e3de8-5a4c-4eb1-8f07-217efbbae168",
   "metadata": {},
   "source": [
    "### Casting booleans"
   ]
  },
  {
   "cell_type": "code",
   "execution_count": 35,
   "id": "2103f735-da2c-4ed4-bba7-4f7f26e9f5d2",
   "metadata": {},
   "outputs": [
    {
     "data": {
      "text/plain": [
       "True"
      ]
     },
     "execution_count": 35,
     "metadata": {},
     "output_type": "execute_result"
    }
   ],
   "source": [
    "bool(1)"
   ]
  },
  {
   "cell_type": "code",
   "execution_count": 37,
   "id": "bea9916c-790f-47f4-a9ab-10bb86414049",
   "metadata": {},
   "outputs": [
    {
     "data": {
      "text/plain": [
       "False"
      ]
     },
     "execution_count": 37,
     "metadata": {},
     "output_type": "execute_result"
    }
   ],
   "source": [
    "bool(0)"
   ]
  },
  {
   "cell_type": "code",
   "execution_count": 38,
   "id": "fc9acbd3-3545-492a-81ba-1ee1965c6746",
   "metadata": {},
   "outputs": [
    {
     "data": {
      "text/plain": [
       "True"
      ]
     },
     "execution_count": 38,
     "metadata": {},
     "output_type": "execute_result"
    }
   ],
   "source": [
    "bool(-1)"
   ]
  },
  {
   "cell_type": "code",
   "execution_count": 39,
   "id": "0217f0e4-0f75-48b9-bf4d-ad2296ac9c2b",
   "metadata": {},
   "outputs": [
    {
     "data": {
      "text/plain": [
       "True"
      ]
     },
     "execution_count": 39,
     "metadata": {},
     "output_type": "execute_result"
    }
   ],
   "source": [
    "bool('False')"
   ]
  },
  {
   "cell_type": "code",
   "execution_count": 41,
   "id": "fa363120-2cd2-43a1-98e1-e476b8c4fd42",
   "metadata": {
    "scrolled": true
   },
   "outputs": [
    {
     "data": {
      "text/plain": [
       "False"
      ]
     },
     "execution_count": 41,
     "metadata": {},
     "output_type": "execute_result"
    }
   ],
   "source": [
    "bool(0j)"
   ]
  },
  {
   "cell_type": "code",
   "execution_count": 42,
   "id": "81fe833d-dbfe-4300-8bae-2fd5a5890a6f",
   "metadata": {},
   "outputs": [
    {
     "data": {
      "text/plain": [
       "False"
      ]
     },
     "execution_count": 42,
     "metadata": {},
     "output_type": "execute_result"
    }
   ],
   "source": [
    "bool([])"
   ]
  },
  {
   "cell_type": "code",
   "execution_count": 47,
   "id": "f0d55760-a390-4adf-974f-f00740bd1271",
   "metadata": {},
   "outputs": [
    {
     "name": "stdout",
     "output_type": "stream",
     "text": [
      "my list has valuein it\n",
      "my list has value in it\n"
     ]
    }
   ],
   "source": [
    "mylist=[1,2]\n",
    "if (mylist):\n",
    "    print('my list has valuein it')\n",
    "#or you can write\n",
    "mylist2=[1,2]\n",
    "if bool(mylist2):\n",
    "    print('my list has value in it')\n"
   ]
  },
  {
   "cell_type": "markdown",
   "id": "bee1cbfe-ae97-402f-8fcf-a26640fbe191",
   "metadata": {},
   "source": [
    "## Strings"
   ]
  },
  {
   "cell_type": "markdown",
   "id": "2c22c11f-6230-490d-9ec1-bcc0ed8ce008",
   "metadata": {},
   "source": [
    "### Slicing"
   ]
  },
  {
   "cell_type": "code",
   "execution_count": 67,
   "id": "3df61e17-9049-4feb-93be-eedf6f5fd2b5",
   "metadata": {},
   "outputs": [],
   "source": [
    "string1='Hello it ia masoud who is tring to learn python'"
   ]
  },
  {
   "cell_type": "code",
   "execution_count": 68,
   "id": "0c306894-4f56-4fb4-9ddb-be8eead97a6e",
   "metadata": {
    "scrolled": true
   },
   "outputs": [
    {
     "data": {
      "text/plain": [
       "'H'"
      ]
     },
     "execution_count": 68,
     "metadata": {},
     "output_type": "execute_result"
    }
   ],
   "source": [
    "string1[0]"
   ]
  },
  {
   "cell_type": "code",
   "execution_count": 69,
   "id": "aa8df25c-6c13-4ded-9666-7841f870d069",
   "metadata": {},
   "outputs": [
    {
     "data": {
      "text/plain": [
       "'Hello i'"
      ]
     },
     "execution_count": 69,
     "metadata": {},
     "output_type": "execute_result"
    }
   ],
   "source": [
    "string1[0:7]"
   ]
  },
  {
   "cell_type": "code",
   "execution_count": 70,
   "id": "c15331af-f764-4312-8857-8e4474a5b991",
   "metadata": {
    "scrolled": true
   },
   "outputs": [
    {
     "data": {
      "text/plain": [
       "'Hello i'"
      ]
     },
     "execution_count": 70,
     "metadata": {},
     "output_type": "execute_result"
    }
   ],
   "source": [
    "string1[:7]"
   ]
  },
  {
   "cell_type": "code",
   "execution_count": 71,
   "id": "eb1f51fc-59c3-4644-b4f5-e6dfcb61fee6",
   "metadata": {
    "scrolled": true
   },
   "outputs": [
    {
     "data": {
      "text/plain": [
       "'who is tring to learn python'"
      ]
     },
     "execution_count": 71,
     "metadata": {},
     "output_type": "execute_result"
    }
   ],
   "source": [
    "string1[19:]"
   ]
  },
  {
   "cell_type": "code",
   "execution_count": 72,
   "id": "9b01cb53-ed01-4632-9074-a7185e3b6214",
   "metadata": {},
   "outputs": [
    {
     "data": {
      "text/plain": [
       "47"
      ]
     },
     "execution_count": 72,
     "metadata": {},
     "output_type": "execute_result"
    }
   ],
   "source": [
    "len(string1)"
   ]
  },
  {
   "cell_type": "markdown",
   "id": "a6c78da7-45d8-44f2-bcc5-cca6d5008352",
   "metadata": {},
   "source": [
    "### Formatting"
   ]
  },
  {
   "cell_type": "code",
   "execution_count": 73,
   "id": "2c7d90e6-fb8e-421a-9a5b-aefd8f5f0088",
   "metadata": {},
   "outputs": [
    {
     "data": {
      "text/plain": [
       "'my lucky number is :7'"
      ]
     },
     "execution_count": 73,
     "metadata": {},
     "output_type": "execute_result"
    }
   ],
   "source": [
    "'my lucky number is :'+str(7)"
   ]
  },
  {
   "cell_type": "code",
   "execution_count": 74,
   "id": "27852bd4-d74a-4242-a153-34ccb08d6e50",
   "metadata": {},
   "outputs": [
    {
     "data": {
      "text/plain": [
       "'my lucky number is 5'"
      ]
     },
     "execution_count": 74,
     "metadata": {},
     "output_type": "execute_result"
    }
   ],
   "source": [
    "f'my lucky number is {5}'"
   ]
  },
  {
   "cell_type": "code",
   "execution_count": 77,
   "id": "90b55bbd-1ed3-4c35-882c-2508bf23ddcf",
   "metadata": {},
   "outputs": [
    {
     "data": {
      "text/plain": [
       "'my lucky number is 7 and twice that is 14'"
      ]
     },
     "execution_count": 77,
     "metadata": {},
     "output_type": "execute_result"
    }
   ],
   "source": [
    "f'my lucky number is {7} and twice that is {2*7}'"
   ]
  },
  {
   "cell_type": "code",
   "execution_count": 79,
   "id": "1f47ff3f-a59b-4174-80c5-05087124a2b1",
   "metadata": {},
   "outputs": [],
   "source": [
    "import math"
   ]
  },
  {
   "cell_type": "code",
   "execution_count": 80,
   "id": "354b9cb3-a46c-4014-acec-95a7dbf39c56",
   "metadata": {},
   "outputs": [
    {
     "data": {
      "text/plain": [
       "6.283185307179586"
      ]
     },
     "execution_count": 80,
     "metadata": {},
     "output_type": "execute_result"
    }
   ],
   "source": [
    "math.pi*2"
   ]
  },
  {
   "cell_type": "code",
   "execution_count": 81,
   "id": "8f8173c8-1c48-4a57-be0b-cd78689cac3c",
   "metadata": {},
   "outputs": [
    {
     "data": {
      "text/plain": [
       "'pi is: 3.14'"
      ]
     },
     "execution_count": 81,
     "metadata": {},
     "output_type": "execute_result"
    }
   ],
   "source": [
    "f'pi is: {math.pi:.2f}'"
   ]
  },
  {
   "cell_type": "code",
   "execution_count": 84,
   "id": "cc567034-0b41-477f-adca-af7f65a97506",
   "metadata": {},
   "outputs": [
    {
     "data": {
      "text/plain": [
       "'pi is : 3.141592653589793'"
      ]
     },
     "execution_count": 84,
     "metadata": {},
     "output_type": "execute_result"
    }
   ],
   "source": [
    "'pi is : {}'. format(math.pi)"
   ]
  },
  {
   "cell_type": "markdown",
   "id": "c8c6c2c6-9b90-4c98-8918-e47777e4de96",
   "metadata": {},
   "source": [
    "### Multi-line strings"
   ]
  },
  {
   "cell_type": "code",
   "execution_count": 91,
   "id": "dd1e0f43-e36a-4fc4-8290-dfbca28f0629",
   "metadata": {},
   "outputs": [
    {
     "data": {
      "text/plain": [
       "'\\nHello everyone\\nHope you are doing well and\\nMake good progress in python learning\\n '"
      ]
     },
     "execution_count": 91,
     "metadata": {},
     "output_type": "execute_result"
    }
   ],
   "source": [
    "string2='''\n",
    "Hello everyone\n",
    "Hope you are doing well and\n",
    "Make good progress in python learning\n",
    " '''\n",
    "string2"
   ]
  },
  {
   "cell_type": "code",
   "execution_count": 92,
   "id": "98328fd8-c631-4b5e-942c-c124e8abf5ba",
   "metadata": {},
   "outputs": [
    {
     "name": "stdout",
     "output_type": "stream",
     "text": [
      "\n",
      "Hello everyone\n",
      "Hope you are doing well and\n",
      "Make good progress in python learning\n",
      " \n"
     ]
    }
   ],
   "source": [
    "print(string2)"
   ]
  },
  {
   "cell_type": "code",
   "execution_count": null,
   "id": "6fc4a1ed-ff68-4d77-b851-c4f2299c2cc0",
   "metadata": {},
   "outputs": [],
   "source": []
  },
  {
   "cell_type": "markdown",
   "id": "4bbf00ec-d0cf-4f23-97c5-a6ddebfdada7",
   "metadata": {},
   "source": [
    "# Most common used python libreries"
   ]
  },
  {
   "cell_type": "markdown",
   "id": "bc66bc36-3b2e-46fe-8ff3-cfa3dec85f39",
   "metadata": {},
   "source": [
    "NumPy: A fundamental package for numerical computations in Python, providing support for arrays, matrices, and various mathematical functions.\n",
    "\n",
    " Pandas: A powerful data manipulation and analysis library that provides data structures like DataFrames, making it easier to work with structured data.\n",
    " \n",
    "Matplotlib: A 2D plotting library that produces static, interactive, and animated visualizations in Python.\n",
    "Seaborn: Built on top of Matplotlib, Seaborn provides a higher-level interface for creating informative and attractive statistical graphics.\n",
    "\n",
    "Scipy: Built on top of NumPy, SciPy is used for advanced mathematics, statistics, signal processing, optimization, and more.\n",
    "\n",
    "Scikit-learn: A widely used machine learning library that provides tools for classification, regression, clustering, dimensionality reduction, and more.\n",
    "\n",
    "TensorFlow: An open-source machine learning framework developed by Google for building and training neural networks and other machine learning models.\n",
    "\n",
    "PyTorch: Another popular open-source machine learning framework that emphasizes dynamic computation graphs and is favored by researchers.\n",
    "\n",
    "Keras: Although now part of TensorFlow, Keras is a high-level neural networks API that provides an easy way to prototype and build deep learning models.\n",
    "\n",
    "NLTK (Natural Language Toolkit): A library for working with human language data, offering tools for text processing, tokenization, stemming, tagging, and more.\n",
    "\n",
    "spaCy, Beautiful Soup, Requests, SQLAlchemy, Django, Flask, OpenCV, Gensim, NetworkX , and Statsmodels."
   ]
  },
  {
   "cell_type": "markdown",
   "id": "472feed3-6987-412f-b589-9e65a4038ac8",
   "metadata": {},
   "source": []
  },
  {
   "cell_type": "code",
   "execution_count": null,
   "id": "2e5a7d5d-524d-4009-ba6d-f519625f3fca",
   "metadata": {},
   "outputs": [],
   "source": []
  },
  {
   "cell_type": "code",
   "execution_count": null,
   "id": "ccd3e10f-49e3-4b6d-b12a-2e819b05d337",
   "metadata": {},
   "outputs": [],
   "source": []
  },
  {
   "cell_type": "code",
   "execution_count": null,
   "id": "ad8bc3fc-e615-4465-a305-fa3bbd5c45f9",
   "metadata": {},
   "outputs": [],
   "source": []
  },
  {
   "cell_type": "code",
   "execution_count": null,
   "id": "35d05c6e-a45d-49ed-9151-aedec287e7d1",
   "metadata": {},
   "outputs": [],
   "source": []
  },
  {
   "cell_type": "code",
   "execution_count": null,
   "id": "488e5e7b-431f-433b-819f-123caaef3bf7",
   "metadata": {},
   "outputs": [],
   "source": []
  },
  {
   "cell_type": "code",
   "execution_count": null,
   "id": "27a236bc-1bb8-4e0f-99d8-0eb131e79b36",
   "metadata": {},
   "outputs": [],
   "source": []
  },
  {
   "cell_type": "code",
   "execution_count": null,
   "id": "c003e429-5336-4ef7-9ed1-a51bca84ed75",
   "metadata": {},
   "outputs": [],
   "source": []
  },
  {
   "cell_type": "code",
   "execution_count": null,
   "id": "03c93b0f-6890-4f70-90ec-7a30fec29a8b",
   "metadata": {},
   "outputs": [],
   "source": []
  },
  {
   "cell_type": "code",
   "execution_count": null,
   "id": "7ac2471b-80d9-4b9c-bc03-9f5e94945916",
   "metadata": {},
   "outputs": [],
   "source": []
  },
  {
   "cell_type": "code",
   "execution_count": null,
   "id": "bab8331e-da29-4a38-b97e-511ac9a2ec1f",
   "metadata": {},
   "outputs": [],
   "source": []
  }
 ],
 "metadata": {
  "kernelspec": {
   "display_name": "Python 3 (ipykernel)",
   "language": "python",
   "name": "python3"
  },
  "language_info": {
   "codemirror_mode": {
    "name": "ipython",
    "version": 3
   },
   "file_extension": ".py",
   "mimetype": "text/x-python",
   "name": "python",
   "nbconvert_exporter": "python",
   "pygments_lexer": "ipython3",
   "version": "3.11.5"
  }
 },
 "nbformat": 4,
 "nbformat_minor": 5
}
